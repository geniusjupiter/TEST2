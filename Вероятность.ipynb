{
 "cells": [
  {
   "cell_type": "markdown",
   "id": "bc9eed1c",
   "metadata": {},
   "source": [
    "## Домашнее задание. Вероятности\n",
    "Один самолет вылетел из Москвы, и должен совершить посадку в 5 городах. Необходимо узнать, количество городов, в котрых может приземлиться в первый, второй, третий город."
   ]
  },
  {
   "cell_type": "code",
   "execution_count": 1,
   "id": "adca2efd",
   "metadata": {},
   "outputs": [
    {
     "data": {
      "text/plain": [
       "60.0"
      ]
     },
     "execution_count": 1,
     "metadata": {},
     "output_type": "execute_result"
    }
   ],
   "source": [
    "def factorial(n):\n",
    "    if n == 1: return 1\n",
    "    else: return n * factorial(n-1)\n",
    "factorial(5)/(factorial(5-3))"
   ]
  },
  {
   "cell_type": "markdown",
   "id": "56316cae",
   "metadata": {},
   "source": [
    "Осьминог Пауль 16 раз пробовал угадать победителя футбольного матча. 14 раз он угадал правильно, 2 раза ошибся. Проверьте гипотезу H0: Пауль выбирает победителя футбольного матча случайно. Сделайте вывод. (сложная задача)"
   ]
  },
  {
   "cell_type": "code",
   "execution_count": 26,
   "id": "e719adc6",
   "metadata": {},
   "outputs": [
    {
     "name": "stdout",
     "output_type": "stream",
     "text": [
      "0.0020904541015625\n"
     ]
    }
   ],
   "source": [
    "def factorial(n):\n",
    "    if n == 1 or n == 0: return 1\n",
    "    else: return n * factorial(n-1)\n",
    "def paul(n, r):\n",
    "    return factorial(n)/ (factorial(r) * factorial(n-r))\n",
    "a = paul(16, 14)\n",
    "b = paul(16, 15)\n",
    "c = paul(16, 16)\n",
    "x = 2 ** (-16) * (a + b + c)\n",
    "print(x) # Вывод в том, что Пауль угадывает победителя не наугад, т.к x < H(0) = 1/2"
   ]
  },
  {
   "cell_type": "code",
   "execution_count": null,
   "id": "4d50f2a3",
   "metadata": {},
   "outputs": [],
   "source": []
  }
 ],
 "metadata": {
  "kernelspec": {
   "display_name": "Python 3 (ipykernel)",
   "language": "python",
   "name": "python3"
  },
  "language_info": {
   "codemirror_mode": {
    "name": "ipython",
    "version": 3
   },
   "file_extension": ".py",
   "mimetype": "text/x-python",
   "name": "python",
   "nbconvert_exporter": "python",
   "pygments_lexer": "ipython3",
   "version": "3.8.12"
  }
 },
 "nbformat": 4,
 "nbformat_minor": 5
}
