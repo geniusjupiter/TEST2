{
 "cells": [
  {
   "cell_type": "code",
   "execution_count": 2,
   "id": "9984fd3c",
   "metadata": {},
   "outputs": [],
   "source": [
    "import pandas as pd\n",
    "df = pd.read_csv('TSLA.csv')"
   ]
  },
  {
   "cell_type": "code",
   "execution_count": 3,
   "id": "90a94f40",
   "metadata": {},
   "outputs": [
    {
     "data": {
      "text/html": [
       "<div>\n",
       "<style scoped>\n",
       "    .dataframe tbody tr th:only-of-type {\n",
       "        vertical-align: middle;\n",
       "    }\n",
       "\n",
       "    .dataframe tbody tr th {\n",
       "        vertical-align: top;\n",
       "    }\n",
       "\n",
       "    .dataframe thead th {\n",
       "        text-align: right;\n",
       "    }\n",
       "</style>\n",
       "<table border=\"1\" class=\"dataframe\">\n",
       "  <thead>\n",
       "    <tr style=\"text-align: right;\">\n",
       "      <th></th>\n",
       "      <th>Date</th>\n",
       "      <th>Open</th>\n",
       "      <th>High</th>\n",
       "      <th>Low</th>\n",
       "      <th>Close</th>\n",
       "      <th>Adj Close</th>\n",
       "      <th>Volume</th>\n",
       "    </tr>\n",
       "  </thead>\n",
       "  <tbody>\n",
       "    <tr>\n",
       "      <th>0</th>\n",
       "      <td>2010-06-29</td>\n",
       "      <td>3.800000</td>\n",
       "      <td>5.000000</td>\n",
       "      <td>3.508000</td>\n",
       "      <td>4.778000</td>\n",
       "      <td>4.778000</td>\n",
       "      <td>93831500</td>\n",
       "    </tr>\n",
       "    <tr>\n",
       "      <th>1</th>\n",
       "      <td>2010-06-30</td>\n",
       "      <td>5.158000</td>\n",
       "      <td>6.084000</td>\n",
       "      <td>4.660000</td>\n",
       "      <td>4.766000</td>\n",
       "      <td>4.766000</td>\n",
       "      <td>85935500</td>\n",
       "    </tr>\n",
       "    <tr>\n",
       "      <th>2</th>\n",
       "      <td>2010-07-01</td>\n",
       "      <td>5.000000</td>\n",
       "      <td>5.184000</td>\n",
       "      <td>4.054000</td>\n",
       "      <td>4.392000</td>\n",
       "      <td>4.392000</td>\n",
       "      <td>41094000</td>\n",
       "    </tr>\n",
       "    <tr>\n",
       "      <th>3</th>\n",
       "      <td>2010-07-02</td>\n",
       "      <td>4.600000</td>\n",
       "      <td>4.620000</td>\n",
       "      <td>3.742000</td>\n",
       "      <td>3.840000</td>\n",
       "      <td>3.840000</td>\n",
       "      <td>25699000</td>\n",
       "    </tr>\n",
       "    <tr>\n",
       "      <th>4</th>\n",
       "      <td>2010-07-06</td>\n",
       "      <td>4.000000</td>\n",
       "      <td>4.000000</td>\n",
       "      <td>3.166000</td>\n",
       "      <td>3.222000</td>\n",
       "      <td>3.222000</td>\n",
       "      <td>34334500</td>\n",
       "    </tr>\n",
       "    <tr>\n",
       "      <th>...</th>\n",
       "      <td>...</td>\n",
       "      <td>...</td>\n",
       "      <td>...</td>\n",
       "      <td>...</td>\n",
       "      <td>...</td>\n",
       "      <td>...</td>\n",
       "      <td>...</td>\n",
       "    </tr>\n",
       "    <tr>\n",
       "      <th>2572</th>\n",
       "      <td>2020-09-16</td>\n",
       "      <td>439.869995</td>\n",
       "      <td>457.790009</td>\n",
       "      <td>435.309998</td>\n",
       "      <td>441.760010</td>\n",
       "      <td>441.760010</td>\n",
       "      <td>72279300</td>\n",
       "    </tr>\n",
       "    <tr>\n",
       "      <th>2573</th>\n",
       "      <td>2020-09-17</td>\n",
       "      <td>415.600006</td>\n",
       "      <td>437.790009</td>\n",
       "      <td>408.000000</td>\n",
       "      <td>423.429993</td>\n",
       "      <td>423.429993</td>\n",
       "      <td>76779200</td>\n",
       "    </tr>\n",
       "    <tr>\n",
       "      <th>2574</th>\n",
       "      <td>2020-09-18</td>\n",
       "      <td>447.940002</td>\n",
       "      <td>451.000000</td>\n",
       "      <td>428.799988</td>\n",
       "      <td>442.149994</td>\n",
       "      <td>442.149994</td>\n",
       "      <td>86406800</td>\n",
       "    </tr>\n",
       "    <tr>\n",
       "      <th>2575</th>\n",
       "      <td>2020-09-21</td>\n",
       "      <td>453.130005</td>\n",
       "      <td>455.679993</td>\n",
       "      <td>407.070007</td>\n",
       "      <td>449.390015</td>\n",
       "      <td>449.390015</td>\n",
       "      <td>109476800</td>\n",
       "    </tr>\n",
       "    <tr>\n",
       "      <th>2576</th>\n",
       "      <td>2020-09-22</td>\n",
       "      <td>429.600006</td>\n",
       "      <td>437.760010</td>\n",
       "      <td>417.600006</td>\n",
       "      <td>424.230011</td>\n",
       "      <td>424.230011</td>\n",
       "      <td>73640900</td>\n",
       "    </tr>\n",
       "  </tbody>\n",
       "</table>\n",
       "<p>2577 rows × 7 columns</p>\n",
       "</div>"
      ],
      "text/plain": [
       "            Date        Open        High         Low       Close   Adj Close  \\\n",
       "0     2010-06-29    3.800000    5.000000    3.508000    4.778000    4.778000   \n",
       "1     2010-06-30    5.158000    6.084000    4.660000    4.766000    4.766000   \n",
       "2     2010-07-01    5.000000    5.184000    4.054000    4.392000    4.392000   \n",
       "3     2010-07-02    4.600000    4.620000    3.742000    3.840000    3.840000   \n",
       "4     2010-07-06    4.000000    4.000000    3.166000    3.222000    3.222000   \n",
       "...          ...         ...         ...         ...         ...         ...   \n",
       "2572  2020-09-16  439.869995  457.790009  435.309998  441.760010  441.760010   \n",
       "2573  2020-09-17  415.600006  437.790009  408.000000  423.429993  423.429993   \n",
       "2574  2020-09-18  447.940002  451.000000  428.799988  442.149994  442.149994   \n",
       "2575  2020-09-21  453.130005  455.679993  407.070007  449.390015  449.390015   \n",
       "2576  2020-09-22  429.600006  437.760010  417.600006  424.230011  424.230011   \n",
       "\n",
       "         Volume  \n",
       "0      93831500  \n",
       "1      85935500  \n",
       "2      41094000  \n",
       "3      25699000  \n",
       "4      34334500  \n",
       "...         ...  \n",
       "2572   72279300  \n",
       "2573   76779200  \n",
       "2574   86406800  \n",
       "2575  109476800  \n",
       "2576   73640900  \n",
       "\n",
       "[2577 rows x 7 columns]"
      ]
     },
     "execution_count": 3,
     "metadata": {},
     "output_type": "execute_result"
    }
   ],
   "source": [
    "df"
   ]
  },
  {
   "cell_type": "markdown",
   "id": "826d0a14",
   "metadata": {},
   "source": [
    "## Посчитать среднюю цену закрытия акций Tesla, в период с открытия по 10.01.2012"
   ]
  },
  {
   "cell_type": "code",
   "execution_count": 9,
   "id": "eb45be2b",
   "metadata": {},
   "outputs": [
    {
     "data": {
      "text/plain": [
       "5.129875968992248"
      ]
     },
     "execution_count": 9,
     "metadata": {},
     "output_type": "execute_result"
    }
   ],
   "source": [
    "df.index = df.Date\n",
    "df[['Date', 'Close']]\n",
    "df[df['Date']<'2012-01-10']['Close'].mean()"
   ]
  },
  {
   "cell_type": "markdown",
   "id": "bb4cd514",
   "metadata": {},
   "source": [
    "## Вывести график цены закрытия"
   ]
  },
  {
   "cell_type": "code",
   "execution_count": 18,
   "id": "84ba31d0",
   "metadata": {},
   "outputs": [
    {
     "data": {
      "image/png": "[encoded data removed]",
      "text/plain": [
       "<Figure size 1800x360 with 1 Axes>"
      ]
     },
     "metadata": {
      "needs_background": "light"
     },
     "output_type": "display_data"
    }
   ],
   "source": [
    "from matplotlib.pyplot import figure, show\n",
    "figure(figsize=(15, 3), dpi=120)\n",
    "df['Close'].plot()\n",
    "show()"
   ]
  },
  {
   "cell_type": "markdown",
   "id": "edbfa45d",
   "metadata": {},
   "source": [
    "## Нормализация"
   ]
  },
  {
   "cell_type": "code",
   "execution_count": 19,
   "id": "c57757b5",
   "metadata": {},
   "outputs": [
    {
     "data": {
      "text/plain": [
       "Date\n",
       "2010-06-29      3.800000\n",
       "2010-06-30      5.158000\n",
       "2010-07-01      5.000000\n",
       "2010-07-02      4.600000\n",
       "2010-07-06      4.000000\n",
       "                 ...    \n",
       "2020-09-16    439.869995\n",
       "2020-09-17    415.600006\n",
       "2020-09-18    447.940002\n",
       "2020-09-21    453.130005\n",
       "2020-09-22    429.600006\n",
       "Name: Open, Length: 2577, dtype: float64"
      ]
     },
     "execution_count": 19,
     "metadata": {},
     "output_type": "execute_result"
    }
   ],
   "source": [
    "df['Open']"
   ]
  },
  {
   "cell_type": "code",
   "execution_count": 20,
   "id": "d0e494f2",
   "metadata": {},
   "outputs": [
    {
     "data": {
      "text/plain": [
       "502.140015"
      ]
     },
     "execution_count": 20,
     "metadata": {},
     "output_type": "execute_result"
    }
   ],
   "source": [
    "max(df.Open)"
   ]
  },
  {
   "cell_type": "code",
   "execution_count": 21,
   "id": "eda11b8a",
   "metadata": {},
   "outputs": [
    {
     "data": {
      "text/plain": [
       "3.228"
      ]
     },
     "execution_count": 21,
     "metadata": {},
     "output_type": "execute_result"
    }
   ],
   "source": [
    "min(df.Open)"
   ]
  },
  {
   "cell_type": "code",
   "execution_count": 22,
   "id": "b0e24437",
   "metadata": {},
   "outputs": [
    {
     "data": {
      "text/plain": [
       "Date\n",
       "2010-06-29    0.001146\n",
       "2010-06-30    0.003868\n",
       "2010-07-01    0.003552\n",
       "2010-07-02    0.002750\n",
       "2010-07-06    0.001547\n",
       "                ...   \n",
       "2020-09-16    0.875188\n",
       "2020-09-17    0.826543\n",
       "2020-09-18    0.891364\n",
       "2020-09-21    0.901766\n",
       "2020-09-22    0.854604\n",
       "Name: Open, Length: 2577, dtype: float64"
      ]
     },
     "execution_count": 22,
     "metadata": {},
     "output_type": "execute_result"
    }
   ],
   "source": [
    "df['Open'].apply(lambda x: ((x - min(df.Open)) / (max(df.Open)-min(df.Open))))"
   ]
  },
  {
   "cell_type": "markdown",
   "id": "81465890",
   "metadata": {},
   "source": [
    "## SMA (Simple Moving Average). "
   ]
  },
  {
   "cell_type": "code",
   "execution_count": 27,
   "id": "29c4ea48",
   "metadata": {},
   "outputs": [
    {
     "data": {
      "text/plain": [
       "<AxesSubplot:xlabel='Date'>"
      ]
     },
     "execution_count": 27,
     "metadata": {},
     "output_type": "execute_result"
    },
    {
     "data": {
      "image/png": "[encoded data removed]",
      "text/plain": [
       "<Figure size 432x288 with 1 Axes>"
      ]
     },
     "metadata": {
      "needs_background": "light"
     },
     "output_type": "display_data"
    }
   ],
   "source": [
    "df.Close.rolling(window = 12).mean().plot()"
   ]
  },
  {
   "cell_type": "markdown",
   "id": "8cdb173a",
   "metadata": {},
   "source": [
    "## Построить график с ценой закрытия и посчитаным SMA 12,15,30"
   ]
  },
  {
   "cell_type": "code",
   "execution_count": 25,
   "id": "27ab4125",
   "metadata": {},
   "outputs": [
    {
     "data": {
      "image/png": "[encoded data removed]",
      "text/plain": [
       "<Figure size 432x288 with 1 Axes>"
      ]
     },
     "metadata": {
      "needs_background": "light"
     },
     "output_type": "display_data"
    }
   ],
   "source": [
    "df.Close.rolling(window = 15).mean().plot()\n",
    "show()"
   ]
  },
  {
   "cell_type": "code",
   "execution_count": 26,
   "id": "36d8d396",
   "metadata": {},
   "outputs": [
    {
     "data": {
      "image/png": "[encoded data removed]",
      "text/plain": [
       "<Figure size 432x288 with 1 Axes>"
      ]
     },
     "metadata": {
      "needs_background": "light"
     },
     "output_type": "display_data"
    }
   ],
   "source": [
    "df.Close.rolling(window = 30).mean().plot()\n",
    "show()"
   ]
  },
  {
   "cell_type": "markdown",
   "id": "600d456c",
   "metadata": {},
   "source": [
    "## Удалите из столбца Close значения, целые части которых кратны 6"
   ]
  },
  {
   "cell_type": "code",
   "execution_count": 28,
   "id": "9361e8eb",
   "metadata": {},
   "outputs": [],
   "source": [
    "df.Close = df.Close.apply(lambda x: np.nan if x % 6 == 0 else x)"
   ]
  },
  {
   "cell_type": "code",
   "execution_count": 29,
   "id": "9391d7a0",
   "metadata": {},
   "outputs": [
    {
     "data": {
      "text/html": [
       "<div>\n",
       "<style scoped>\n",
       "    .dataframe tbody tr th:only-of-type {\n",
       "        vertical-align: middle;\n",
       "    }\n",
       "\n",
       "    .dataframe tbody tr th {\n",
       "        vertical-align: top;\n",
       "    }\n",
       "\n",
       "    .dataframe thead th {\n",
       "        text-align: right;\n",
       "    }\n",
       "</style>\n",
       "<table border=\"1\" class=\"dataframe\">\n",
       "  <thead>\n",
       "    <tr style=\"text-align: right;\">\n",
       "      <th></th>\n",
       "      <th>Date</th>\n",
       "      <th>Open</th>\n",
       "      <th>High</th>\n",
       "      <th>Low</th>\n",
       "      <th>Close</th>\n",
       "      <th>Adj Close</th>\n",
       "      <th>Volume</th>\n",
       "    </tr>\n",
       "    <tr>\n",
       "      <th>Date</th>\n",
       "      <th></th>\n",
       "      <th></th>\n",
       "      <th></th>\n",
       "      <th></th>\n",
       "      <th></th>\n",
       "      <th></th>\n",
       "      <th></th>\n",
       "    </tr>\n",
       "  </thead>\n",
       "  <tbody>\n",
       "    <tr>\n",
       "      <th>2010-06-29</th>\n",
       "      <td>2010-06-29</td>\n",
       "      <td>3.800000</td>\n",
       "      <td>5.000000</td>\n",
       "      <td>3.508000</td>\n",
       "      <td>4.778000</td>\n",
       "      <td>4.778000</td>\n",
       "      <td>93831500</td>\n",
       "    </tr>\n",
       "    <tr>\n",
       "      <th>2010-06-30</th>\n",
       "      <td>2010-06-30</td>\n",
       "      <td>5.158000</td>\n",
       "      <td>6.084000</td>\n",
       "      <td>4.660000</td>\n",
       "      <td>4.766000</td>\n",
       "      <td>4.766000</td>\n",
       "      <td>85935500</td>\n",
       "    </tr>\n",
       "    <tr>\n",
       "      <th>2010-07-01</th>\n",
       "      <td>2010-07-01</td>\n",
       "      <td>5.000000</td>\n",
       "      <td>5.184000</td>\n",
       "      <td>4.054000</td>\n",
       "      <td>4.392000</td>\n",
       "      <td>4.392000</td>\n",
       "      <td>41094000</td>\n",
       "    </tr>\n",
       "    <tr>\n",
       "      <th>2010-07-02</th>\n",
       "      <td>2010-07-02</td>\n",
       "      <td>4.600000</td>\n",
       "      <td>4.620000</td>\n",
       "      <td>3.742000</td>\n",
       "      <td>3.840000</td>\n",
       "      <td>3.840000</td>\n",
       "      <td>25699000</td>\n",
       "    </tr>\n",
       "    <tr>\n",
       "      <th>2010-07-06</th>\n",
       "      <td>2010-07-06</td>\n",
       "      <td>4.000000</td>\n",
       "      <td>4.000000</td>\n",
       "      <td>3.166000</td>\n",
       "      <td>3.222000</td>\n",
       "      <td>3.222000</td>\n",
       "      <td>34334500</td>\n",
       "    </tr>\n",
       "    <tr>\n",
       "      <th>...</th>\n",
       "      <td>...</td>\n",
       "      <td>...</td>\n",
       "      <td>...</td>\n",
       "      <td>...</td>\n",
       "      <td>...</td>\n",
       "      <td>...</td>\n",
       "      <td>...</td>\n",
       "    </tr>\n",
       "    <tr>\n",
       "      <th>2020-09-16</th>\n",
       "      <td>2020-09-16</td>\n",
       "      <td>439.869995</td>\n",
       "      <td>457.790009</td>\n",
       "      <td>435.309998</td>\n",
       "      <td>441.760010</td>\n",
       "      <td>441.760010</td>\n",
       "      <td>72279300</td>\n",
       "    </tr>\n",
       "    <tr>\n",
       "      <th>2020-09-17</th>\n",
       "      <td>2020-09-17</td>\n",
       "      <td>415.600006</td>\n",
       "      <td>437.790009</td>\n",
       "      <td>408.000000</td>\n",
       "      <td>423.429993</td>\n",
       "      <td>423.429993</td>\n",
       "      <td>76779200</td>\n",
       "    </tr>\n",
       "    <tr>\n",
       "      <th>2020-09-18</th>\n",
       "      <td>2020-09-18</td>\n",
       "      <td>447.940002</td>\n",
       "      <td>451.000000</td>\n",
       "      <td>428.799988</td>\n",
       "      <td>442.149994</td>\n",
       "      <td>442.149994</td>\n",
       "      <td>86406800</td>\n",
       "    </tr>\n",
       "    <tr>\n",
       "      <th>2020-09-21</th>\n",
       "      <td>2020-09-21</td>\n",
       "      <td>453.130005</td>\n",
       "      <td>455.679993</td>\n",
       "      <td>407.070007</td>\n",
       "      <td>449.390015</td>\n",
       "      <td>449.390015</td>\n",
       "      <td>109476800</td>\n",
       "    </tr>\n",
       "    <tr>\n",
       "      <th>2020-09-22</th>\n",
       "      <td>2020-09-22</td>\n",
       "      <td>429.600006</td>\n",
       "      <td>437.760010</td>\n",
       "      <td>417.600006</td>\n",
       "      <td>424.230011</td>\n",
       "      <td>424.230011</td>\n",
       "      <td>73640900</td>\n",
       "    </tr>\n",
       "  </tbody>\n",
       "</table>\n",
       "<p>2577 rows × 7 columns</p>\n",
       "</div>"
      ],
      "text/plain": [
       "                  Date        Open        High         Low       Close  \\\n",
       "Date                                                                     \n",
       "2010-06-29  2010-06-29    3.800000    5.000000    3.508000    4.778000   \n",
       "2010-06-30  2010-06-30    5.158000    6.084000    4.660000    4.766000   \n",
       "2010-07-01  2010-07-01    5.000000    5.184000    4.054000    4.392000   \n",
       "2010-07-02  2010-07-02    4.600000    4.620000    3.742000    3.840000   \n",
       "2010-07-06  2010-07-06    4.000000    4.000000    3.166000    3.222000   \n",
       "...                ...         ...         ...         ...         ...   \n",
       "2020-09-16  2020-09-16  439.869995  457.790009  435.309998  441.760010   \n",
       "2020-09-17  2020-09-17  415.600006  437.790009  408.000000  423.429993   \n",
       "2020-09-18  2020-09-18  447.940002  451.000000  428.799988  442.149994   \n",
       "2020-09-21  2020-09-21  453.130005  455.679993  407.070007  449.390015   \n",
       "2020-09-22  2020-09-22  429.600006  437.760010  417.600006  424.230011   \n",
       "\n",
       "             Adj Close     Volume  \n",
       "Date                               \n",
       "2010-06-29    4.778000   93831500  \n",
       "2010-06-30    4.766000   85935500  \n",
       "2010-07-01    4.392000   41094000  \n",
       "2010-07-02    3.840000   25699000  \n",
       "2010-07-06    3.222000   34334500  \n",
       "...                ...        ...  \n",
       "2020-09-16  441.760010   72279300  \n",
       "2020-09-17  423.429993   76779200  \n",
       "2020-09-18  442.149994   86406800  \n",
       "2020-09-21  449.390015  109476800  \n",
       "2020-09-22  424.230011   73640900  \n",
       "\n",
       "[2577 rows x 7 columns]"
      ]
     },
     "execution_count": 29,
     "metadata": {},
     "output_type": "execute_result"
    }
   ],
   "source": [
    "df"
   ]
  },
  {
   "cell_type": "markdown",
   "id": "321d6561",
   "metadata": {},
   "source": [
    "## Теперь попробуйте заполнить пропуски средним значением в столбце, потом минимумом, потом медианой"
   ]
  },
  {
   "cell_type": "code",
   "execution_count": 30,
   "id": "2e0a8eec",
   "metadata": {},
   "outputs": [
    {
     "name": "stderr",
     "output_type": "stream",
     "text": [
      "C:\\Users\\843E~1\\AppData\\Local\\Temp/ipykernel_11848/634187881.py:1: FutureWarning: Dropping of nuisance columns in DataFrame reductions (with 'numeric_only=None') is deprecated; in a future version this will raise TypeError.  Select only valid columns before calling the reduction.\n",
      "  df.fillna(df.mean())\n"
     ]
    },
    {
     "data": {
      "text/html": [
       "<div>\n",
       "<style scoped>\n",
       "    .dataframe tbody tr th:only-of-type {\n",
       "        vertical-align: middle;\n",
       "    }\n",
       "\n",
       "    .dataframe tbody tr th {\n",
       "        vertical-align: top;\n",
       "    }\n",
       "\n",
       "    .dataframe thead th {\n",
       "        text-align: right;\n",
       "    }\n",
       "</style>\n",
       "<table border=\"1\" class=\"dataframe\">\n",
       "  <thead>\n",
       "    <tr style=\"text-align: right;\">\n",
       "      <th></th>\n",
       "      <th>Date</th>\n",
       "      <th>Open</th>\n",
       "      <th>High</th>\n",
       "      <th>Low</th>\n",
       "      <th>Close</th>\n",
       "      <th>Adj Close</th>\n",
       "      <th>Volume</th>\n",
       "    </tr>\n",
       "    <tr>\n",
       "      <th>Date</th>\n",
       "      <th></th>\n",
       "      <th></th>\n",
       "      <th></th>\n",
       "      <th></th>\n",
       "      <th></th>\n",
       "      <th></th>\n",
       "      <th></th>\n",
       "    </tr>\n",
       "  </thead>\n",
       "  <tbody>\n",
       "    <tr>\n",
       "      <th>2010-06-29</th>\n",
       "      <td>2010-06-29</td>\n",
       "      <td>3.800000</td>\n",
       "      <td>5.000000</td>\n",
       "      <td>3.508000</td>\n",
       "      <td>4.778000</td>\n",
       "      <td>4.778000</td>\n",
       "      <td>93831500</td>\n",
       "    </tr>\n",
       "    <tr>\n",
       "      <th>2010-06-30</th>\n",
       "      <td>2010-06-30</td>\n",
       "      <td>5.158000</td>\n",
       "      <td>6.084000</td>\n",
       "      <td>4.660000</td>\n",
       "      <td>4.766000</td>\n",
       "      <td>4.766000</td>\n",
       "      <td>85935500</td>\n",
       "    </tr>\n",
       "    <tr>\n",
       "      <th>2010-07-01</th>\n",
       "      <td>2010-07-01</td>\n",
       "      <td>5.000000</td>\n",
       "      <td>5.184000</td>\n",
       "      <td>4.054000</td>\n",
       "      <td>4.392000</td>\n",
       "      <td>4.392000</td>\n",
       "      <td>41094000</td>\n",
       "    </tr>\n",
       "    <tr>\n",
       "      <th>2010-07-02</th>\n",
       "      <td>2010-07-02</td>\n",
       "      <td>4.600000</td>\n",
       "      <td>4.620000</td>\n",
       "      <td>3.742000</td>\n",
       "      <td>3.840000</td>\n",
       "      <td>3.840000</td>\n",
       "      <td>25699000</td>\n",
       "    </tr>\n",
       "    <tr>\n",
       "      <th>2010-07-06</th>\n",
       "      <td>2010-07-06</td>\n",
       "      <td>4.000000</td>\n",
       "      <td>4.000000</td>\n",
       "      <td>3.166000</td>\n",
       "      <td>3.222000</td>\n",
       "      <td>3.222000</td>\n",
       "      <td>34334500</td>\n",
       "    </tr>\n",
       "    <tr>\n",
       "      <th>...</th>\n",
       "      <td>...</td>\n",
       "      <td>...</td>\n",
       "      <td>...</td>\n",
       "      <td>...</td>\n",
       "      <td>...</td>\n",
       "      <td>...</td>\n",
       "      <td>...</td>\n",
       "    </tr>\n",
       "    <tr>\n",
       "      <th>2020-09-16</th>\n",
       "      <td>2020-09-16</td>\n",
       "      <td>439.869995</td>\n",
       "      <td>457.790009</td>\n",
       "      <td>435.309998</td>\n",
       "      <td>441.760010</td>\n",
       "      <td>441.760010</td>\n",
       "      <td>72279300</td>\n",
       "    </tr>\n",
       "    <tr>\n",
       "      <th>2020-09-17</th>\n",
       "      <td>2020-09-17</td>\n",
       "      <td>415.600006</td>\n",
       "      <td>437.790009</td>\n",
       "      <td>408.000000</td>\n",
       "      <td>423.429993</td>\n",
       "      <td>423.429993</td>\n",
       "      <td>76779200</td>\n",
       "    </tr>\n",
       "    <tr>\n",
       "      <th>2020-09-18</th>\n",
       "      <td>2020-09-18</td>\n",
       "      <td>447.940002</td>\n",
       "      <td>451.000000</td>\n",
       "      <td>428.799988</td>\n",
       "      <td>442.149994</td>\n",
       "      <td>442.149994</td>\n",
       "      <td>86406800</td>\n",
       "    </tr>\n",
       "    <tr>\n",
       "      <th>2020-09-21</th>\n",
       "      <td>2020-09-21</td>\n",
       "      <td>453.130005</td>\n",
       "      <td>455.679993</td>\n",
       "      <td>407.070007</td>\n",
       "      <td>449.390015</td>\n",
       "      <td>449.390015</td>\n",
       "      <td>109476800</td>\n",
       "    </tr>\n",
       "    <tr>\n",
       "      <th>2020-09-22</th>\n",
       "      <td>2020-09-22</td>\n",
       "      <td>429.600006</td>\n",
       "      <td>437.760010</td>\n",
       "      <td>417.600006</td>\n",
       "      <td>424.230011</td>\n",
       "      <td>424.230011</td>\n",
       "      <td>73640900</td>\n",
       "    </tr>\n",
       "  </tbody>\n",
       "</table>\n",
       "<p>2577 rows × 7 columns</p>\n",
       "</div>"
      ],
      "text/plain": [
       "                  Date        Open        High         Low       Close  \\\n",
       "Date                                                                     \n",
       "2010-06-29  2010-06-29    3.800000    5.000000    3.508000    4.778000   \n",
       "2010-06-30  2010-06-30    5.158000    6.084000    4.660000    4.766000   \n",
       "2010-07-01  2010-07-01    5.000000    5.184000    4.054000    4.392000   \n",
       "2010-07-02  2010-07-02    4.600000    4.620000    3.742000    3.840000   \n",
       "2010-07-06  2010-07-06    4.000000    4.000000    3.166000    3.222000   \n",
       "...                ...         ...         ...         ...         ...   \n",
       "2020-09-16  2020-09-16  439.869995  457.790009  435.309998  441.760010   \n",
       "2020-09-17  2020-09-17  415.600006  437.790009  408.000000  423.429993   \n",
       "2020-09-18  2020-09-18  447.940002  451.000000  428.799988  442.149994   \n",
       "2020-09-21  2020-09-21  453.130005  455.679993  407.070007  449.390015   \n",
       "2020-09-22  2020-09-22  429.600006  437.760010  417.600006  424.230011   \n",
       "\n",
       "             Adj Close     Volume  \n",
       "Date                               \n",
       "2010-06-29    4.778000   93831500  \n",
       "2010-06-30    4.766000   85935500  \n",
       "2010-07-01    4.392000   41094000  \n",
       "2010-07-02    3.840000   25699000  \n",
       "2010-07-06    3.222000   34334500  \n",
       "...                ...        ...  \n",
       "2020-09-16  441.760010   72279300  \n",
       "2020-09-17  423.429993   76779200  \n",
       "2020-09-18  442.149994   86406800  \n",
       "2020-09-21  449.390015  109476800  \n",
       "2020-09-22  424.230011   73640900  \n",
       "\n",
       "[2577 rows x 7 columns]"
      ]
     },
     "execution_count": 30,
     "metadata": {},
     "output_type": "execute_result"
    }
   ],
   "source": [
    "df.fillna(df.mean())"
   ]
  },
  {
   "cell_type": "code",
   "execution_count": 31,
   "id": "c7ff2a93",
   "metadata": {},
   "outputs": [
    {
     "data": {
      "text/html": [
       "<div>\n",
       "<style scoped>\n",
       "    .dataframe tbody tr th:only-of-type {\n",
       "        vertical-align: middle;\n",
       "    }\n",
       "\n",
       "    .dataframe tbody tr th {\n",
       "        vertical-align: top;\n",
       "    }\n",
       "\n",
       "    .dataframe thead th {\n",
       "        text-align: right;\n",
       "    }\n",
       "</style>\n",
       "<table border=\"1\" class=\"dataframe\">\n",
       "  <thead>\n",
       "    <tr style=\"text-align: right;\">\n",
       "      <th></th>\n",
       "      <th>Date</th>\n",
       "      <th>Open</th>\n",
       "      <th>High</th>\n",
       "      <th>Low</th>\n",
       "      <th>Close</th>\n",
       "      <th>Adj Close</th>\n",
       "      <th>Volume</th>\n",
       "    </tr>\n",
       "    <tr>\n",
       "      <th>Date</th>\n",
       "      <th></th>\n",
       "      <th></th>\n",
       "      <th></th>\n",
       "      <th></th>\n",
       "      <th></th>\n",
       "      <th></th>\n",
       "      <th></th>\n",
       "    </tr>\n",
       "  </thead>\n",
       "  <tbody>\n",
       "    <tr>\n",
       "      <th>2010-06-29</th>\n",
       "      <td>2010-06-29</td>\n",
       "      <td>3.800000</td>\n",
       "      <td>5.000000</td>\n",
       "      <td>3.508000</td>\n",
       "      <td>4.778000</td>\n",
       "      <td>4.778000</td>\n",
       "      <td>93831500</td>\n",
       "    </tr>\n",
       "    <tr>\n",
       "      <th>2010-06-30</th>\n",
       "      <td>2010-06-30</td>\n",
       "      <td>5.158000</td>\n",
       "      <td>6.084000</td>\n",
       "      <td>4.660000</td>\n",
       "      <td>4.766000</td>\n",
       "      <td>4.766000</td>\n",
       "      <td>85935500</td>\n",
       "    </tr>\n",
       "    <tr>\n",
       "      <th>2010-07-01</th>\n",
       "      <td>2010-07-01</td>\n",
       "      <td>5.000000</td>\n",
       "      <td>5.184000</td>\n",
       "      <td>4.054000</td>\n",
       "      <td>4.392000</td>\n",
       "      <td>4.392000</td>\n",
       "      <td>41094000</td>\n",
       "    </tr>\n",
       "    <tr>\n",
       "      <th>2010-07-02</th>\n",
       "      <td>2010-07-02</td>\n",
       "      <td>4.600000</td>\n",
       "      <td>4.620000</td>\n",
       "      <td>3.742000</td>\n",
       "      <td>3.840000</td>\n",
       "      <td>3.840000</td>\n",
       "      <td>25699000</td>\n",
       "    </tr>\n",
       "    <tr>\n",
       "      <th>2010-07-06</th>\n",
       "      <td>2010-07-06</td>\n",
       "      <td>4.000000</td>\n",
       "      <td>4.000000</td>\n",
       "      <td>3.166000</td>\n",
       "      <td>3.222000</td>\n",
       "      <td>3.222000</td>\n",
       "      <td>34334500</td>\n",
       "    </tr>\n",
       "    <tr>\n",
       "      <th>...</th>\n",
       "      <td>...</td>\n",
       "      <td>...</td>\n",
       "      <td>...</td>\n",
       "      <td>...</td>\n",
       "      <td>...</td>\n",
       "      <td>...</td>\n",
       "      <td>...</td>\n",
       "    </tr>\n",
       "    <tr>\n",
       "      <th>2020-09-16</th>\n",
       "      <td>2020-09-16</td>\n",
       "      <td>439.869995</td>\n",
       "      <td>457.790009</td>\n",
       "      <td>435.309998</td>\n",
       "      <td>441.760010</td>\n",
       "      <td>441.760010</td>\n",
       "      <td>72279300</td>\n",
       "    </tr>\n",
       "    <tr>\n",
       "      <th>2020-09-17</th>\n",
       "      <td>2020-09-17</td>\n",
       "      <td>415.600006</td>\n",
       "      <td>437.790009</td>\n",
       "      <td>408.000000</td>\n",
       "      <td>423.429993</td>\n",
       "      <td>423.429993</td>\n",
       "      <td>76779200</td>\n",
       "    </tr>\n",
       "    <tr>\n",
       "      <th>2020-09-18</th>\n",
       "      <td>2020-09-18</td>\n",
       "      <td>447.940002</td>\n",
       "      <td>451.000000</td>\n",
       "      <td>428.799988</td>\n",
       "      <td>442.149994</td>\n",
       "      <td>442.149994</td>\n",
       "      <td>86406800</td>\n",
       "    </tr>\n",
       "    <tr>\n",
       "      <th>2020-09-21</th>\n",
       "      <td>2020-09-21</td>\n",
       "      <td>453.130005</td>\n",
       "      <td>455.679993</td>\n",
       "      <td>407.070007</td>\n",
       "      <td>449.390015</td>\n",
       "      <td>449.390015</td>\n",
       "      <td>109476800</td>\n",
       "    </tr>\n",
       "    <tr>\n",
       "      <th>2020-09-22</th>\n",
       "      <td>2020-09-22</td>\n",
       "      <td>429.600006</td>\n",
       "      <td>437.760010</td>\n",
       "      <td>417.600006</td>\n",
       "      <td>424.230011</td>\n",
       "      <td>424.230011</td>\n",
       "      <td>73640900</td>\n",
       "    </tr>\n",
       "  </tbody>\n",
       "</table>\n",
       "<p>2577 rows × 7 columns</p>\n",
       "</div>"
      ],
      "text/plain": [
       "                  Date        Open        High         Low       Close  \\\n",
       "Date                                                                     \n",
       "2010-06-29  2010-06-29    3.800000    5.000000    3.508000    4.778000   \n",
       "2010-06-30  2010-06-30    5.158000    6.084000    4.660000    4.766000   \n",
       "2010-07-01  2010-07-01    5.000000    5.184000    4.054000    4.392000   \n",
       "2010-07-02  2010-07-02    4.600000    4.620000    3.742000    3.840000   \n",
       "2010-07-06  2010-07-06    4.000000    4.000000    3.166000    3.222000   \n",
       "...                ...         ...         ...         ...         ...   \n",
       "2020-09-16  2020-09-16  439.869995  457.790009  435.309998  441.760010   \n",
       "2020-09-17  2020-09-17  415.600006  437.790009  408.000000  423.429993   \n",
       "2020-09-18  2020-09-18  447.940002  451.000000  428.799988  442.149994   \n",
       "2020-09-21  2020-09-21  453.130005  455.679993  407.070007  449.390015   \n",
       "2020-09-22  2020-09-22  429.600006  437.760010  417.600006  424.230011   \n",
       "\n",
       "             Adj Close     Volume  \n",
       "Date                               \n",
       "2010-06-29    4.778000   93831500  \n",
       "2010-06-30    4.766000   85935500  \n",
       "2010-07-01    4.392000   41094000  \n",
       "2010-07-02    3.840000   25699000  \n",
       "2010-07-06    3.222000   34334500  \n",
       "...                ...        ...  \n",
       "2020-09-16  441.760010   72279300  \n",
       "2020-09-17  423.429993   76779200  \n",
       "2020-09-18  442.149994   86406800  \n",
       "2020-09-21  449.390015  109476800  \n",
       "2020-09-22  424.230011   73640900  \n",
       "\n",
       "[2577 rows x 7 columns]"
      ]
     },
     "execution_count": 31,
     "metadata": {},
     "output_type": "execute_result"
    }
   ],
   "source": [
    "df.fillna(df.min())"
   ]
  },
  {
   "cell_type": "code",
   "execution_count": 32,
   "id": "c50ffeac",
   "metadata": {},
   "outputs": [
    {
     "data": {
      "text/html": [
       "<div>\n",
       "<style scoped>\n",
       "    .dataframe tbody tr th:only-of-type {\n",
       "        vertical-align: middle;\n",
       "    }\n",
       "\n",
       "    .dataframe tbody tr th {\n",
       "        vertical-align: top;\n",
       "    }\n",
       "\n",
       "    .dataframe thead th {\n",
       "        text-align: right;\n",
       "    }\n",
       "</style>\n",
       "<table border=\"1\" class=\"dataframe\">\n",
       "  <thead>\n",
       "    <tr style=\"text-align: right;\">\n",
       "      <th></th>\n",
       "      <th>Date</th>\n",
       "      <th>Open</th>\n",
       "      <th>High</th>\n",
       "      <th>Low</th>\n",
       "      <th>Close</th>\n",
       "      <th>Adj Close</th>\n",
       "      <th>Volume</th>\n",
       "    </tr>\n",
       "    <tr>\n",
       "      <th>Date</th>\n",
       "      <th></th>\n",
       "      <th></th>\n",
       "      <th></th>\n",
       "      <th></th>\n",
       "      <th></th>\n",
       "      <th></th>\n",
       "      <th></th>\n",
       "    </tr>\n",
       "  </thead>\n",
       "  <tbody>\n",
       "    <tr>\n",
       "      <th>2010-06-29</th>\n",
       "      <td>2010-06-29</td>\n",
       "      <td>3.800000</td>\n",
       "      <td>5.000000</td>\n",
       "      <td>3.508000</td>\n",
       "      <td>4.778</td>\n",
       "      <td>4.778000</td>\n",
       "      <td>93831500</td>\n",
       "    </tr>\n",
       "    <tr>\n",
       "      <th>2010-06-30</th>\n",
       "      <td>2010-06-30</td>\n",
       "      <td>5.158000</td>\n",
       "      <td>6.084000</td>\n",
       "      <td>4.660000</td>\n",
       "      <td>4.766</td>\n",
       "      <td>4.766000</td>\n",
       "      <td>85935500</td>\n",
       "    </tr>\n",
       "    <tr>\n",
       "      <th>2010-07-01</th>\n",
       "      <td>2010-07-01</td>\n",
       "      <td>5.000000</td>\n",
       "      <td>5.184000</td>\n",
       "      <td>4.054000</td>\n",
       "      <td>4.392</td>\n",
       "      <td>4.392000</td>\n",
       "      <td>41094000</td>\n",
       "    </tr>\n",
       "    <tr>\n",
       "      <th>2010-07-02</th>\n",
       "      <td>2010-07-02</td>\n",
       "      <td>4.600000</td>\n",
       "      <td>4.620000</td>\n",
       "      <td>3.742000</td>\n",
       "      <td>3.84</td>\n",
       "      <td>3.840000</td>\n",
       "      <td>25699000</td>\n",
       "    </tr>\n",
       "    <tr>\n",
       "      <th>2010-07-06</th>\n",
       "      <td>2010-07-06</td>\n",
       "      <td>4.000000</td>\n",
       "      <td>4.000000</td>\n",
       "      <td>3.166000</td>\n",
       "      <td>3.222</td>\n",
       "      <td>3.222000</td>\n",
       "      <td>34334500</td>\n",
       "    </tr>\n",
       "    <tr>\n",
       "      <th>...</th>\n",
       "      <td>...</td>\n",
       "      <td>...</td>\n",
       "      <td>...</td>\n",
       "      <td>...</td>\n",
       "      <td>...</td>\n",
       "      <td>...</td>\n",
       "      <td>...</td>\n",
       "    </tr>\n",
       "    <tr>\n",
       "      <th>2020-09-16</th>\n",
       "      <td>2020-09-16</td>\n",
       "      <td>439.869995</td>\n",
       "      <td>457.790009</td>\n",
       "      <td>435.309998</td>\n",
       "      <td>441.76001</td>\n",
       "      <td>441.760010</td>\n",
       "      <td>72279300</td>\n",
       "    </tr>\n",
       "    <tr>\n",
       "      <th>2020-09-17</th>\n",
       "      <td>2020-09-17</td>\n",
       "      <td>415.600006</td>\n",
       "      <td>437.790009</td>\n",
       "      <td>408.000000</td>\n",
       "      <td>423.429993</td>\n",
       "      <td>423.429993</td>\n",
       "      <td>76779200</td>\n",
       "    </tr>\n",
       "    <tr>\n",
       "      <th>2020-09-18</th>\n",
       "      <td>2020-09-18</td>\n",
       "      <td>447.940002</td>\n",
       "      <td>451.000000</td>\n",
       "      <td>428.799988</td>\n",
       "      <td>442.149994</td>\n",
       "      <td>442.149994</td>\n",
       "      <td>86406800</td>\n",
       "    </tr>\n",
       "    <tr>\n",
       "      <th>2020-09-21</th>\n",
       "      <td>2020-09-21</td>\n",
       "      <td>453.130005</td>\n",
       "      <td>455.679993</td>\n",
       "      <td>407.070007</td>\n",
       "      <td>449.390015</td>\n",
       "      <td>449.390015</td>\n",
       "      <td>109476800</td>\n",
       "    </tr>\n",
       "    <tr>\n",
       "      <th>2020-09-22</th>\n",
       "      <td>2020-09-22</td>\n",
       "      <td>429.600006</td>\n",
       "      <td>437.760010</td>\n",
       "      <td>417.600006</td>\n",
       "      <td>424.230011</td>\n",
       "      <td>424.230011</td>\n",
       "      <td>73640900</td>\n",
       "    </tr>\n",
       "  </tbody>\n",
       "</table>\n",
       "<p>2577 rows × 7 columns</p>\n",
       "</div>"
      ],
      "text/plain": [
       "                  Date        Open        High         Low       Close  \\\n",
       "Date                                                                     \n",
       "2010-06-29  2010-06-29    3.800000    5.000000    3.508000       4.778   \n",
       "2010-06-30  2010-06-30    5.158000    6.084000    4.660000       4.766   \n",
       "2010-07-01  2010-07-01    5.000000    5.184000    4.054000       4.392   \n",
       "2010-07-02  2010-07-02    4.600000    4.620000    3.742000        3.84   \n",
       "2010-07-06  2010-07-06    4.000000    4.000000    3.166000       3.222   \n",
       "...                ...         ...         ...         ...         ...   \n",
       "2020-09-16  2020-09-16  439.869995  457.790009  435.309998   441.76001   \n",
       "2020-09-17  2020-09-17  415.600006  437.790009  408.000000  423.429993   \n",
       "2020-09-18  2020-09-18  447.940002  451.000000  428.799988  442.149994   \n",
       "2020-09-21  2020-09-21  453.130005  455.679993  407.070007  449.390015   \n",
       "2020-09-22  2020-09-22  429.600006  437.760010  417.600006  424.230011   \n",
       "\n",
       "             Adj Close     Volume  \n",
       "Date                               \n",
       "2010-06-29    4.778000   93831500  \n",
       "2010-06-30    4.766000   85935500  \n",
       "2010-07-01    4.392000   41094000  \n",
       "2010-07-02    3.840000   25699000  \n",
       "2010-07-06    3.222000   34334500  \n",
       "...                ...        ...  \n",
       "2020-09-16  441.760010   72279300  \n",
       "2020-09-17  423.429993   76779200  \n",
       "2020-09-18  442.149994   86406800  \n",
       "2020-09-21  449.390015  109476800  \n",
       "2020-09-22  424.230011   73640900  \n",
       "\n",
       "[2577 rows x 7 columns]"
      ]
     },
     "execution_count": 32,
     "metadata": {},
     "output_type": "execute_result"
    }
   ],
   "source": [
    "df.fillna(df.median)"
   ]
  },
  {
   "cell_type": "markdown",
   "id": "287e1465",
   "metadata": {},
   "source": [
    "## Импортируйте matplotlib.pyplot как plt. Постройте графики получишвихся наборов значений. Чтобы получше разглядеть, найдите как в pyplot задать размер графика и поставьте побольше"
   ]
  },
  {
   "cell_type": "code",
   "execution_count": 34,
   "id": "c6598600",
   "metadata": {},
   "outputs": [
    {
     "data": {
      "text/plain": [
       "<AxesSubplot:xlabel='Date'>"
      ]
     },
     "execution_count": 34,
     "metadata": {},
     "output_type": "execute_result"
    },
    {
     "data": {
      "image/png": "[encoded data removed]",
      "text/plain": [
       "<Figure size 1440x600 with 1 Axes>"
      ]
     },
     "metadata": {
      "needs_background": "light"
     },
     "output_type": "display_data"
    }
   ],
   "source": [
    "from matplotlib.pyplot import figure\n",
    "figure(figsize=(12,5), dpi=120)\n",
    "df.Close.plot()"
   ]
  },
  {
   "cell_type": "markdown",
   "id": "9f60e648",
   "metadata": {},
   "source": [
    "## Приведите столбец High к строковому типу. Найдите все строки, где содержится цифра 9."
   ]
  },
  {
   "cell_type": "code",
   "execution_count": 35,
   "id": "bb3aa4cc",
   "metadata": {},
   "outputs": [
    {
     "data": {
      "text/plain": [
       "Date\n",
       "2010-08-02         4.194\n",
       "2010-08-03          4.39\n",
       "2010-08-09         3.996\n",
       "2010-08-10          3.93\n",
       "2010-08-13          3.69\n",
       "                 ...    \n",
       "2020-09-10     398.98999\n",
       "2020-09-15    461.940002\n",
       "2020-09-16    457.790009\n",
       "2020-09-17    437.790009\n",
       "2020-09-21    455.679993\n",
       "Name: High, Length: 1255, dtype: string"
      ]
     },
     "execution_count": 35,
     "metadata": {},
     "output_type": "execute_result"
    }
   ],
   "source": [
    "df = df.High.astype(\"string\")\n",
    "df[(df.str.contains('9') == True)]"
   ]
  },
  {
   "cell_type": "markdown",
   "id": "c1618428",
   "metadata": {},
   "source": [
    "## А теперь найдите в этом столбце строки, которые содержат цифру 4, но не содержат цифру 8."
   ]
  },
  {
   "cell_type": "code",
   "execution_count": 36,
   "id": "0ee27444",
   "metadata": {},
   "outputs": [
    {
     "data": {
      "text/plain": [
       "Date\n",
       "2010-07-02          4.62\n",
       "2010-07-06           4.0\n",
       "2010-07-08         3.504\n",
       "2010-07-12         3.614\n",
       "2010-07-14          4.03\n",
       "                 ...    \n",
       "2020-09-16    457.790009\n",
       "2020-09-17    437.790009\n",
       "2020-09-18         451.0\n",
       "2020-09-21    455.679993\n",
       "2020-09-22     437.76001\n",
       "Name: High, Length: 827, dtype: string"
      ]
     },
     "execution_count": 36,
     "metadata": {},
     "output_type": "execute_result"
    }
   ],
   "source": [
    "df[(df.str.contains(\"4\") == True) & (df.str.contains(\"8\") == False)]"
   ]
  },
  {
   "cell_type": "code",
   "execution_count": null,
   "id": "f83bab5d",
   "metadata": {},
   "outputs": [],
   "source": []
  }
 ],
 "metadata": {
  "kernelspec": {
   "display_name": "Python 3 (ipykernel)",
   "language": "python",
   "name": "python3"
  },
  "language_info": {
   "codemirror_mode": {
    "name": "ipython",
    "version": 3
   },
   "file_extension": ".py",
   "mimetype": "text/x-python",
   "name": "python",
   "nbconvert_exporter": "python",
   "pygments_lexer": "ipython3",
   "version": "3.8.12"
  }
 },
 "nbformat": 4,
 "nbformat_minor": 5
}
