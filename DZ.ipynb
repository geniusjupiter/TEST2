{
 "cells": [
  {
   "cell_type": "markdown",
   "id": "47f12e92",
   "metadata": {},
   "source": [
    "## Самостоятельная работа #2\n",
    "\n",
    "**Задание 1**\n",
    "\n",
    "Допишите функцию, которая принимает 2 числа, сравнивает между собой и возвращает наименьшее."
   ]
  },
  {
   "cell_type": "code",
   "execution_count": 1,
   "id": "46936a9b",
   "metadata": {},
   "outputs": [
    {
     "name": "stdout",
     "output_type": "stream",
     "text": [
      "a\n"
     ]
    }
   ],
   "source": [
    "a = 1\n",
    "b = 2\n",
    "if a > b:\n",
    "    print ('b')\n",
    "elif a < b:\n",
    "    print ('a')\n",
    "else: \n",
    "    print(\"a = b\")"
   ]
  },
  {
   "cell_type": "markdown",
   "id": "e9493006",
   "metadata": {},
   "source": [
    "**Задание 2**\n",
    "\n",
    "Допишите функцию, которая принимает 3 числа, сравнивает между собой и возвращает наименьшее."
   ]
  },
  {
   "cell_type": "code",
   "execution_count": 2,
   "id": "ba3ab499",
   "metadata": {},
   "outputs": [
    {
     "name": "stdout",
     "output_type": "stream",
     "text": [
      "b\n"
     ]
    }
   ],
   "source": [
    "a = 3\n",
    "b = 0\n",
    "c = 1\n",
    "if a < b and a < c:\n",
    "    print ('a')\n",
    "elif b < a and b < c:\n",
    "    print ('b')\n",
    "else: \n",
    "    print('c')"
   ]
  },
  {
   "cell_type": "markdown",
   "id": "d68f051b",
   "metadata": {},
   "source": [
    "**Задание 3**\n",
    "\n",
    "Допишите функцию, которая принимает 3 числа, сравнивает между собой и возвращает количество совпадающих чисел. Соответственно, программа может возвращать одно из трех чисел: 3 - если совпадают все, 2 - если совпадают 2 числа, 0 - если все числа различны."
   ]
  },
  {
   "cell_type": "code",
   "execution_count": 9,
   "id": "0a0ae3b8",
   "metadata": {},
   "outputs": [
    {
     "name": "stdout",
     "output_type": "stream",
     "text": [
      "2\n"
     ]
    }
   ],
   "source": [
    "a = 3\n",
    "b = 2\n",
    "c = 3\n",
    "if a == b and a == c:\n",
    "    print (3)\n",
    "elif b != a and b == c: \n",
    "    print (2)\n",
    "elif a != c and a == b:\n",
    "    print(2)\n",
    "elif b != c and a == c:\n",
    "    print (2)\n",
    "else: \n",
    "    print(0)"
   ]
  },
  {
   "cell_type": "markdown",
   "id": "4ea3e61d",
   "metadata": {},
   "source": [
    "## Самостоятельное задание #3\n",
    "\n",
    "**Задание 1**\n",
    "\n",
    "Допишите функцию, которая принимает массив из 10 чисел и возвращает их сумму."
   ]
  },
  {
   "cell_type": "code",
   "execution_count": 5,
   "id": "5e5a83f8",
   "metadata": {},
   "outputs": [
    {
     "name": "stdout",
     "output_type": "stream",
     "text": [
      "55\n"
     ]
    }
   ],
   "source": [
    "n = 0\n",
    "for i in [1, 2, 3, 4, 5, 6, 7, 8, 9, 10]:\n",
    "    n += i\n",
    "print(n)"
   ]
  },
  {
   "cell_type": "markdown",
   "id": "8c8c10a6",
   "metadata": {},
   "source": [
    "**Задание 2**\n",
    "\n",
    "Допишите функцию, которая принимает массив чисел и возвращает количество чисел равных нулю."
   ]
  },
  {
   "cell_type": "code",
   "execution_count": 1,
   "id": "f7bf64aa",
   "metadata": {},
   "outputs": [
    {
     "name": "stdout",
     "output_type": "stream",
     "text": [
      "3\n"
     ]
    }
   ],
   "source": [
    "b = 0\n",
    "for i in [0, 0, 3, 4, 0, 6, 7, 8, 9, 10]:\n",
    "    if i == 0:\n",
    "        b += 1\n",
    "else:\n",
    "    b += 0\n",
    "print (b)"
   ]
  },
  {
   "cell_type": "markdown",
   "id": "9c8c3d5d",
   "metadata": {},
   "source": [
    "**Задание 3**\n",
    "\n",
    "Напишите программу, в которой задается натуральное число n и выводится лестница из n ступенек, i-я ступенька должна состоять из чисел от 1 до i без пробелов."
   ]
  },
  {
   "cell_type": "code",
   "execution_count": 10,
   "id": "6409ce52",
   "metadata": {},
   "outputs": [
    {
     "name": "stdout",
     "output_type": "stream",
     "text": [
      "5\n",
      "\n",
      "\n",
      "1\n",
      "12\n",
      "123\n",
      "1234\n",
      "12345\n"
     ]
    }
   ],
   "source": [
    "n = int(input())\n",
    "for i in range(n + 2):\n",
    "    print(*range(1, i), sep='')"
   ]
  },
  {
   "cell_type": "markdown",
   "id": "91431d6e",
   "metadata": {},
   "source": [
    "**Задание 4**\n",
    "\n",
    "Напишите программу, в которой задается натуральное число n и выводится пирамида из n ступенек, i-я ступень должна состоять из чисел от 1 до i и обратно без пробелов."
   ]
  },
  {
   "cell_type": "code",
   "execution_count": 11,
   "id": "44604523",
   "metadata": {},
   "outputs": [
    {
     "name": "stdout",
     "output_type": "stream",
     "text": [
      "5\n",
      "     \n",
      "    1\n",
      "   121\n",
      "  12321\n",
      " 1234321\n",
      "123454321\n"
     ]
    }
   ],
   "source": [
    "n = int(input()) + 1 \n",
    "for i in range(1, n + 1): \n",
    "    print(' ' * (n - i), end = '')  \n",
    "    print(*range(1, i), *range(1, i - 1)[::-1], sep='')"
   ]
  },
  {
   "cell_type": "markdown",
   "id": "a6e6a176",
   "metadata": {},
   "source": [
    "**Задание 5**\n",
    "\n",
    "Напишите программу, в которой задается натуральное число n и выводится ромб из n*2-1 ступенек, i-я ступень должна состоять из чисел от 1 до i и обратно без пробелов.\n",
    "\n"
   ]
  },
  {
   "cell_type": "code",
   "execution_count": 12,
   "id": "dceccb04",
   "metadata": {},
   "outputs": [
    {
     "name": "stdout",
     "output_type": "stream",
     "text": [
      "5\n",
      "     \n",
      "    1\n",
      "   121\n",
      "  12321\n",
      " 1234321\n",
      "123454321\n",
      " 1234321\n",
      "  12321\n",
      "   121\n",
      "    1\n"
     ]
    }
   ],
   "source": [
    "n = int(input()) + 1\n",
    "for i in range(1, 2 * n - 1):\n",
    "    if i <= n:\n",
    "        print(' ' * (n - i), end='')\n",
    "        print(*range(1, i), *range(1, i - 1)[::-1], sep='')\n",
    "    else:\n",
    "        print(' ' * (i - n), end='')\n",
    "        print(*range(1, n + n - i), *range(1, n + n - i - 1)[::-1], sep='')"
   ]
  },
  {
   "cell_type": "markdown",
   "id": "a25873ad",
   "metadata": {},
   "source": [
    "## Самостоятельное задание #4\n",
    "\n",
    "Дана строка: Lambdadambda\n",
    "\n",
    "**Вывести третий символ этой строки.**"
   ]
  },
  {
   "cell_type": "code",
   "execution_count": 1,
   "id": "2fc8f271",
   "metadata": {},
   "outputs": [
    {
     "name": "stdout",
     "output_type": "stream",
     "text": [
      "m\n"
     ]
    }
   ],
   "source": [
    "row = \"Lambdadambda\"\n",
    "print (row[2])"
   ]
  },
  {
   "cell_type": "markdown",
   "id": "14e5f947",
   "metadata": {},
   "source": [
    "**Вывести предпоследний символ этой строки.**"
   ]
  },
  {
   "cell_type": "code",
   "execution_count": 4,
   "id": "a2bd1b05",
   "metadata": {},
   "outputs": [
    {
     "name": "stdout",
     "output_type": "stream",
     "text": [
      "d\n"
     ]
    }
   ],
   "source": [
    "row = \"Lambdadambda\"\n",
    "print (row[len(row) - 2])"
   ]
  },
  {
   "cell_type": "markdown",
   "id": "c50107e4",
   "metadata": {},
   "source": [
    "**Вывести первые пять символов этой строки.**"
   ]
  },
  {
   "cell_type": "code",
   "execution_count": 5,
   "id": "8727099b",
   "metadata": {},
   "outputs": [
    {
     "name": "stdout",
     "output_type": "stream",
     "text": [
      "Lambd\n"
     ]
    }
   ],
   "source": [
    "row = \"Lambdadambda\"\n",
    "print(row[0:5])"
   ]
  },
  {
   "cell_type": "markdown",
   "id": "9cabb715",
   "metadata": {},
   "source": [
    "**Вывести строку, кроме последних двух символов.**"
   ]
  },
  {
   "cell_type": "code",
   "execution_count": 8,
   "id": "b3c8a17a",
   "metadata": {},
   "outputs": [
    {
     "name": "stdout",
     "output_type": "stream",
     "text": [
      "Lambdadamb\n"
     ]
    }
   ],
   "source": [
    "row = \"Lambdadambda\"\n",
    "print(row[0:len(row) - 2])"
   ]
  },
  {
   "cell_type": "markdown",
   "id": "c466ffd0",
   "metadata": {},
   "source": [
    "**Вывести все символы с четными индексами (считайте, что 0 - четный индекс).**"
   ]
  },
  {
   "cell_type": "code",
   "execution_count": 21,
   "id": "e2c7d5fa",
   "metadata": {},
   "outputs": [
    {
     "name": "stdout",
     "output_type": "stream",
     "text": [
      "Lmddmd\n"
     ]
    }
   ],
   "source": [
    "row = \"Lambdadambda\"\n",
    "print(row[::2])"
   ]
  },
  {
   "cell_type": "markdown",
   "id": "743c412d",
   "metadata": {},
   "source": [
    "**Вывести все символы с нечетными индексами.**"
   ]
  },
  {
   "cell_type": "code",
   "execution_count": 25,
   "id": "6a482e40",
   "metadata": {},
   "outputs": [
    {
     "name": "stdout",
     "output_type": "stream",
     "text": [
      "abaaba\n"
     ]
    }
   ],
   "source": [
    "row = \"Lambdadambda\"\n",
    "print(row[1::2])"
   ]
  },
  {
   "cell_type": "markdown",
   "id": "53321e4e",
   "metadata": {},
   "source": [
    "**Вывести все символы в обратном порядке.**"
   ]
  },
  {
   "cell_type": "code",
   "execution_count": 16,
   "id": "20f3bd08",
   "metadata": {},
   "outputs": [
    {
     "name": "stdout",
     "output_type": "stream",
     "text": [
      "adbmadadbmaL\n"
     ]
    }
   ],
   "source": [
    "row = \"Lambdadambda\"\n",
    "print(row[::-1])"
   ]
  },
  {
   "cell_type": "markdown",
   "id": "f9056065",
   "metadata": {},
   "source": [
    "**Вывести все символы строки через один в обратном порядке, начиная с последнего.**"
   ]
  },
  {
   "cell_type": "code",
   "execution_count": 26,
   "id": "a9942b8d",
   "metadata": {},
   "outputs": [
    {
     "name": "stdout",
     "output_type": "stream",
     "text": [
      "abaaba\n"
     ]
    }
   ],
   "source": [
    "row = \"Lambdadambda\"\n",
    "print(row[::-2])"
   ]
  },
  {
   "cell_type": "markdown",
   "id": "72a6b4eb",
   "metadata": {},
   "source": [
    "**Вывести длину данной строки.**"
   ]
  },
  {
   "cell_type": "code",
   "execution_count": 11,
   "id": "a1955109",
   "metadata": {},
   "outputs": [
    {
     "name": "stdout",
     "output_type": "stream",
     "text": [
      "12\n"
     ]
    }
   ],
   "source": [
    "row = \"Lambdadambda\"\n",
    "print(len(row))"
   ]
  },
  {
   "cell_type": "markdown",
   "id": "095c6ac4",
   "metadata": {},
   "source": [
    "## Самостоятельное задание #5 ##\n",
    "\n",
    "**Задание 1**\n",
    "\n",
    "Допишите функцию, которая принимает список, выбирает из него все элементы с четным индексом и возвращает их в виде списка."
   ]
  },
  {
   "cell_type": "code",
   "execution_count": 54,
   "id": "cfd1a827",
   "metadata": {},
   "outputs": [
    {
     "name": "stdout",
     "output_type": "stream",
     "text": [
      "['L', 'm', 'd']\n"
     ]
    }
   ],
   "source": [
    "var = ['L', 'a', 'm', 'b', 'd', 'a']\n",
    "print (var[::2])"
   ]
  },
  {
   "cell_type": "markdown",
   "id": "69133cf3",
   "metadata": {},
   "source": [
    "**Задание 2**\n",
    "\n",
    "Допишите функцию, которая принимает список, выбирает из него все элементы, которые больше предыдущего и возвращает их в виде списка."
   ]
  },
  {
   "cell_type": "code",
   "execution_count": 28,
   "id": "d846dbd7",
   "metadata": {},
   "outputs": [
    {
     "name": "stdout",
     "output_type": "stream",
     "text": [
      "[6, 3]\n"
     ]
    }
   ],
   "source": [
    "a = [1, 6, 1, 3, 1]\n",
    "b = []\n",
    "for i in range(len(a) - 1): # пересматрвает список а\n",
    "    if a[i] < a[i+1]: # проверяет больше ли последующее число\n",
    "        b.append (a[i + 1]) # закидывает число в список b с помощью функции добавления в конец списка\n",
    "print (b)"
   ]
  },
  {
   "cell_type": "markdown",
   "id": "385a008f",
   "metadata": {},
   "source": [
    "**Задание 3**\n",
    "\n",
    "Допишите функцию, которая принимает список, меняет местами наибольший и наименьший элементы и возвращает этот список."
   ]
  },
  {
   "cell_type": "code",
   "execution_count": 8,
   "id": "9322c63d",
   "metadata": {},
   "outputs": [
    {
     "name": "stdout",
     "output_type": "stream",
     "text": [
      "[5, 1, 2, 3, 6]\n"
     ]
    }
   ],
   "source": [
    "a = [5, 6, 2, 3, 1]\n",
    "b = a.index(min(a)) # вывод индекса минимального значения\n",
    "c = a.index(max(a)) # вывод индекса максимального значения\n",
    "a[c], a[b] = a[b], a[c] # меняем местами позиции max и min\n",
    "print(a)\n"
   ]
  },
  {
   "cell_type": "markdown",
   "id": "917347b4",
   "metadata": {},
   "source": [
    "## Самостоятельное задание #6 ##\n",
    "\n",
    "**Задание 1**\n",
    "\n",
    "Допишите функцию, которая принимает несколько параметров. Первый параметр - словарь, второй параметр - один из ключей данного словаря. Функция должна выводить значение этого ключа."
   ]
  },
  {
   "cell_type": "code",
   "execution_count": 11,
   "id": "0b11f9e8",
   "metadata": {},
   "outputs": [
    {
     "data": {
      "text/plain": [
       "'dict'"
      ]
     },
     "execution_count": 11,
     "metadata": {},
     "output_type": "execute_result"
    }
   ],
   "source": [
    "a = dict(short = 'dict', long = 'dictionary')\n",
    "a.get('short')"
   ]
  },
  {
   "cell_type": "markdown",
   "id": "bd44eefc",
   "metadata": {},
   "source": [
    "## Самостоятельное задание #7 ##\n",
    "\n",
    "**Задание 1**\n",
    "\n",
    "Допишите функцию, которая принимает список чисел и, с помощью множеств, определяет количество различных чисел внутри списка."
   ]
  },
  {
   "cell_type": "code",
   "execution_count": 60,
   "id": "984d76c3",
   "metadata": {},
   "outputs": [
    {
     "name": "stdout",
     "output_type": "stream",
     "text": [
      "6\n"
     ]
    }
   ],
   "source": [
    "a = [1, 2, 3, 3, 4, 5, 6, 6]\n",
    "b = set(a)\n",
    "print(len(b))"
   ]
  },
  {
   "cell_type": "markdown",
   "id": "6a2d00ed",
   "metadata": {},
   "source": [
    "**Задание 2**\n",
    "\n",
    "Допишите функцию, которая принимает несколько списков чисел и, с помощью множеств, определяет количество общих чисел из первого и второго списка."
   ]
  },
  {
   "cell_type": "code",
   "execution_count": null,
   "id": "9f15a81a",
   "metadata": {},
   "outputs": [],
   "source": []
  }
 ],
 "metadata": {
  "kernelspec": {
   "display_name": "Python 3 (ipykernel)",
   "language": "python",
   "name": "python3"
  },
  "language_info": {
   "codemirror_mode": {
    "name": "ipython",
    "version": 3
   },
   "file_extension": ".py",
   "mimetype": "text/x-python",
   "name": "python",
   "nbconvert_exporter": "python",
   "pygments_lexer": "ipython3",
   "version": "3.8.12"
  }
 },
 "nbformat": 4,
 "nbformat_minor": 5
}
